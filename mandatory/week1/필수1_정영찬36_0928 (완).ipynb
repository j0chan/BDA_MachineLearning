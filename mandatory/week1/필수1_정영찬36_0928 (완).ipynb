{
 "cells": [
  {
   "cell_type": "code",
   "execution_count": 1,
   "id": "4d7b442b-0a57-4b10-a298-62e31cda5c0c",
   "metadata": {},
   "outputs": [],
   "source": [
    "import seaborn as sns\n",
    "# 타이타닉 데이터셋 tt에 저장\n",
    "tt = sns.load_dataset('titanic')"
   ]
  },
  {
   "cell_type": "code",
   "execution_count": 2,
   "id": "083d32c1-940c-42a7-9058-3d781de58e58",
   "metadata": {},
   "outputs": [],
   "source": [
    "# male_survived 변수에 pclass가 3이고 20세 미만 남성 데이터 저장\n",
    "male_tt = tt[(tt['pclass']==3) & (tt['age']<20) & (tt['sex']=='male')]\n",
    "\n",
    "# female_survived 변수에 pclass가 3이고 20세 미만 여성 데이터 저장\n",
    "female_tt = tt[(tt['pclass']==3) & (tt['age']<20) & (tt['sex']=='female')]"
   ]
  },
  {
   "cell_type": "code",
   "execution_count": 3,
   "id": "8a1f6103-5515-40d4-b9db-f92cf1c5ad34",
   "metadata": {},
   "outputs": [],
   "source": [
    "# 전달값을 탐색하며 값이 1이면 count를 늘리는 함수.\n",
    "# 이를 통해 위에서 추출한 값 중 생존한 인원을 체크한다.\n",
    "def survived_num(a):\n",
    "    count = 0\n",
    "    for i in a:\n",
    "        if i == 1:\n",
    "            count += 1\n",
    "    return count"
   ]
  },
  {
   "cell_type": "code",
   "execution_count": 4,
   "id": "d5eaa105-2355-4c40-9df6-9b59be606a02",
   "metadata": {},
   "outputs": [
    {
     "name": "stdout",
     "output_type": "stream",
     "text": [
      "pclass가 3인 20세 미만 남성 수: 63\n",
      "그 중 생존자 수: 12\n"
     ]
    }
   ],
   "source": [
    "# 조건에 맞는 인원 수, 그 중 생존자 수(남성) 출력\n",
    "print('pclass가 3인 20세 미만 남성 수:', len(male_tt))\n",
    "print('그 중 생존자 수:',survived_num(male_tt['survived']))"
   ]
  },
  {
   "cell_type": "code",
   "execution_count": 5,
   "id": "1eba2dfb-a259-4da6-961c-ae1f58e6d7f9",
   "metadata": {},
   "outputs": [
    {
     "name": "stdout",
     "output_type": "stream",
     "text": [
      "pclass가 3인 20세 미만 여성 수: 45\n",
      "그 중 생존자 수: 24\n"
     ]
    }
   ],
   "source": [
    "# 조건에 맞는 인원 수, 그 중 생존자 수(여성) 출력\n",
    "print('pclass가 3인 20세 미만 여성 수:', len(female_tt))\n",
    "print('그 중 생존자 수:',survived_num(female_tt['survived']))"
   ]
  }
 ],
 "metadata": {
  "kernelspec": {
   "display_name": "Python 3 (ipykernel)",
   "language": "python",
   "name": "python3"
  },
  "language_info": {
   "codemirror_mode": {
    "name": "ipython",
    "version": 3
   },
   "file_extension": ".py",
   "mimetype": "text/x-python",
   "name": "python",
   "nbconvert_exporter": "python",
   "pygments_lexer": "ipython3",
   "version": "3.12.4"
  }
 },
 "nbformat": 4,
 "nbformat_minor": 5
}
